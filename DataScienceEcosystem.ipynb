{
  "metadata": {
    "kernelspec": {
      "name": "python",
      "display_name": "Python (Pyodide)",
      "language": "python"
    },
    "language_info": {
      "codemirror_mode": {
        "name": "python",
        "version": 3
      },
      "file_extension": ".py",
      "mimetype": "text/x-python",
      "name": "python",
      "nbconvert_exporter": "python",
      "pygments_lexer": "ipython3",
      "version": "3.8"
    }
  },
  "nbformat_minor": 5,
  "nbformat": 4,
  "cells": [
    {
      "id": "3e4e108c-36eb-4ed0-a2ca-4bcb93d9eadb",
      "cell_type": "markdown",
      "source": "# Data Science Tools and Ecosystem\n\n",
      "metadata": {}
    },
    {
      "id": "fc9751fc-338e-47ba-91ee-ba9ca56db4ba",
      "cell_type": "markdown",
      "source": "In this notebook, Data Science Tools and Ecosystem are summarized.",
      "metadata": {}
    },
    {
      "id": "e9060bfa-effe-44d0-9327-3efce2c89b8b",
      "cell_type": "markdown",
      "source": "Some of the popular languages that Data Scientists use are:\n1. Python item\n2. R item\n3. SQL item\n",
      "metadata": {}
    },
    {
      "id": "e1e71c25-d049-43b2-9f4c-99253594f316",
      "cell_type": "markdown",
      "source": "**Objectives:**\n- Python item\n- R item\n- SQL item\n",
      "metadata": {}
    },
    {
      "id": "ba8be640-959f-432a-a506-c4193176d703",
      "cell_type": "markdown",
      "source": "Some of the commonly used libraries used by Data Scientists include:\n\n| Numpy |\n| ------- |\n| Pandas |\n| Scipy |\n| Matplotlib |\n",
      "metadata": {}
    },
    {
      "id": "cbd95a1e-e81e-4714-afde-75bbdfe03f4e",
      "cell_type": "markdown",
      "source": "<table style=\"width:15%\">\n<tr>\n<th>Data Science Tools</th>\n </tr>\n <tr>\n<td>Jupyter Notebooks</td>\n </tr>\n\n <tr>\n<td>RStudio</td>\n</tr> <tr>\n<td>Apache Spark</td>\n</tr> \n\n</table>",
      "metadata": {}
    },
    {
      "id": "debc9230-eab1-435c-91c6-f91f2c65db37",
      "cell_type": "markdown",
      "source": "### Below are a few examples of evaluating arithmetic expressions in Python",
      "metadata": {}
    },
    {
      "id": "eacb8d01-333a-4c3c-ac23-fa75c699da1d",
      "cell_type": "code",
      "source": "#This a simple arithmetic expression to mutiply then add integers:\n\n(3*4)+5",
      "metadata": {
        "trusted": true
      },
      "outputs": [
        {
          "execution_count": 3,
          "output_type": "execute_result",
          "data": {
            "text/plain": "17"
          },
          "metadata": {}
        }
      ],
      "execution_count": 3
    },
    {
      "id": "e5d9a271-bd16-4b9e-a5f8-9775b144e4dd",
      "cell_type": "code",
      "source": "minutes=200\nhours=minutes/60 #1 hours is 60 minutes so  This will convert 200 minutes to hours by diving by 60.\nhours",
      "metadata": {
        "trusted": true
      },
      "outputs": [
        {
          "execution_count": 4,
          "output_type": "execute_result",
          "data": {
            "text/plain": "3.3333333333333335"
          },
          "metadata": {}
        }
      ],
      "execution_count": 4
    },
    {
      "id": "bc0e21a5-1f2f-4b0a-95ba-5d72b0837b4f",
      "cell_type": "markdown",
      "source": "## Author\n Kothanda Raman P",
      "metadata": {}
    },
    {
      "id": "df213b4b-09c7-4987-a988-b0f4ce8fb556",
      "cell_type": "code",
      "source": "",
      "metadata": {
        "trusted": true
      },
      "outputs": [],
      "execution_count": null
    }
  ]
}